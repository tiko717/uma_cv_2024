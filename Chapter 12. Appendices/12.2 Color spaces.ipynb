{
 "cells": [
  {
   "cell_type": "markdown",
   "metadata": {},
   "source": [
    "# Appendix 2. Color spaces\n",
    "\n",
    "<img src=\"./images/YCbCr.png\" width=\"250\" align=\"left\"/><img src=\"./images/rgb.png\" width=\"300\" align=\"rigth\"/>\n",
    "\n",
    "In this notebook, we will cover some important color spaces used in computer vision.\n",
    "\n",
    "A **color model** is an abstract mathematical model describing the way in which colors can be represented as tuples of numbers."
   ]
  },
  {
   "cell_type": "code",
   "execution_count": null,
   "metadata": {},
   "outputs": [],
   "source": [
    "import cv2\n",
    "import numpy as np\n",
    "import matplotlib \n",
    "from matplotlib import pyplot as plt \n",
    "matplotlib.rcParams['figure.figsize'] = (10.0, 10.0)\n",
    "images_path = './images/'"
   ]
  },
  {
   "cell_type": "markdown",
   "metadata": {},
   "source": [
    "In OpenCV, color images are read by default as BGR images:"
   ]
  },
  {
   "cell_type": "code",
   "execution_count": null,
   "metadata": {},
   "outputs": [],
   "source": [
    "image_bgr = cv2.imread(images_path + 'etsii.jpg',-1)\n",
    "pixel_bgr = image_bgr[0,0,:]\n",
    "print(\"BGR: \", pixel_bgr)"
   ]
  },
  {
   "cell_type": "markdown",
   "metadata": {},
   "source": [
    "There are more than 150 color-space conversion methods available in OpenCV. But we will look into two, which are the most widely used ones:  \n",
    "BGR $\\iff$ RGB and BGR $\\iff$ YCrCb.\n",
    "\n",
    "The following code lists the color-space conversions in the case of having an image coded in BGR:"
   ]
  },
  {
   "cell_type": "code",
   "execution_count": null,
   "metadata": {},
   "outputs": [],
   "source": [
    "flags = [i for i in dir(cv2) if i.startswith('COLOR_BGR2')]\n",
    "print(flags)"
   ]
  },
  {
   "cell_type": "markdown",
   "metadata": {},
   "source": [
    "For example, you can convert a BGR coded image into a RGB one by doing:"
   ]
  },
  {
   "cell_type": "code",
   "execution_count": null,
   "metadata": {},
   "outputs": [],
   "source": [
    "image_rgb = cv2.cvtColor(image_bgr, cv2.COLOR_BGR2RGB)\n",
    "pixel_rgb = image_rgb[0,0,:]\n",
    "print(\"BGR: \", pixel_bgr, \"\\nRGB: \", pixel_rgb)"
   ]
  },
  {
   "cell_type": "markdown",
   "metadata": {},
   "source": [
    "You already are familiar with **RGB** (and its color permutations) and **grayscale**. But, what about the **YCrCb** color space? Let's see how our favorite pixel from `image_bgr` looks in this sapce:"
   ]
  },
  {
   "cell_type": "code",
   "execution_count": null,
   "metadata": {},
   "outputs": [],
   "source": [
    "image_YCrCb = cv2.cvtColor(image_bgr, cv2.COLOR_BGR2YCrCb)\n",
    "pixel_YCrCb = image_YCrCb[0,0,:]\n",
    "\n",
    "print(\"BGR:   \", pixel_bgr, \"\\nYCrCb: \", pixel_YCrCb)"
   ]
  },
  {
   "cell_type": "markdown",
   "metadata": {},
   "source": [
    "YCrCb is one of the multiple color models that separate intensity from color information (other examples are HSL, YUV, etc.). This means that:\n",
    "\n",
    "- one image band is a copy of the grayscale image (containing pixel intensities, usually the first band), and\n",
    "- the other two bands contain information about color (not pixel intensity).\n",
    "\n",
    "<img src=\"./images/color_conversion.png\" width=\"800\" />\n",
    "\n",
    "Let's see how the first band of `image_bgr`looks like in both, grayscale and YCrCb models:"
   ]
  },
  {
   "cell_type": "code",
   "execution_count": null,
   "metadata": {},
   "outputs": [],
   "source": [
    "image_gray = cv2.cvtColor(image_bgr, cv2.COLOR_BGR2GRAY)\n",
    "\n",
    "plt.figure(1)\n",
    "\n",
    "plt.subplot(1,2,1)\n",
    "plt.imshow(image_gray, cmap='gray')\n",
    "plt.title('Gray image')\n",
    "\n",
    "plt.subplot(1,2,2)\n",
    "plt.imshow(image_YCrCb[:,:,0], cmap='gray')\n",
    "plt.title('YCrCb image first band')\n",
    "\n",
    "plt.show()"
   ]
  },
  {
   "cell_type": "markdown",
   "metadata": {},
   "source": [
    "However, a remarkable difference between grayscale and YCrCb representations is that **an image coded in grayscale can not be reconverted to BGR or RGB**, since color information has been lost!\n",
    "\n",
    "The YCrCb color space has many applications, like JPEG compression or object tracking. In this book, this color space is going to be used to **process color images like grayscale ones**. There are some methods like histogram equalization (notebook 2.3) that can not be applied to RGB images, so usually they process the first band of images codified in YCrCb (or a similar representation keeping pixel intensities) and then reconverted back to RGB."
   ]
  }
 ],
 "metadata": {
  "kernelspec": {
   "display_name": "Python 3 (ipykernel)",
   "language": "python",
   "name": "python3"
  },
  "language_info": {
   "codemirror_mode": {
    "name": "ipython",
    "version": 3
   },
   "file_extension": ".py",
   "mimetype": "text/x-python",
   "name": "python",
   "nbconvert_exporter": "python",
   "pygments_lexer": "ipython3",
   "version": "3.11.5"
  },
  "varInspector": {
   "cols": {
    "lenName": 16,
    "lenType": 16,
    "lenVar": 40
   },
   "kernels_config": {
    "python": {
     "delete_cmd_postfix": "",
     "delete_cmd_prefix": "del ",
     "library": "var_list.py",
     "varRefreshCmd": "print(var_dic_list())"
    },
    "r": {
     "delete_cmd_postfix": ") ",
     "delete_cmd_prefix": "rm(",
     "library": "var_list.r",
     "varRefreshCmd": "cat(var_dic_list()) "
    }
   },
   "types_to_exclude": [
    "module",
    "function",
    "builtin_function_or_method",
    "instance",
    "_Feature"
   ],
   "window_display": false
  }
 },
 "nbformat": 4,
 "nbformat_minor": 4
}
